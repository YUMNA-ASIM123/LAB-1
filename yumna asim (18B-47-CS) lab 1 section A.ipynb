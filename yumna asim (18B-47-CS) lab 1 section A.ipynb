{
 "cells": [
  {
   "cell_type": "code",
   "execution_count": 3,
   "metadata": {},
   "outputs": [
    {
     "name": "stdout",
     "output_type": "stream",
     "text": [
      "Assalam o alekum Python World!\n"
     ]
    }
   ],
   "source": [
    "message=\"Assalam o alekum Python World!\"\n",
    "print(message)\n"
   ]
  },
  {
   "cell_type": "code",
   "execution_count": 4,
   "metadata": {},
   "outputs": [
    {
     "name": "stdout",
     "output_type": "stream",
     "text": [
      "I am from Usman Institute of Technology\n"
     ]
    }
   ],
   "source": [
    "message2=\"I am from Usman Institute of Technology\"\n",
    "print(message2)"
   ]
  },
  {
   "cell_type": "code",
   "execution_count": 5,
   "metadata": {},
   "outputs": [
    {
     "name": "stdout",
     "output_type": "stream",
     "text": [
      "My sir is great...\n"
     ]
    }
   ],
   "source": [
    "message3=\"My sir is great...\"\n",
    "print(message3)\n"
   ]
  },
  {
   "cell_type": "code",
   "execution_count": 8,
   "metadata": {},
   "outputs": [
    {
     "name": "stdout",
     "output_type": "stream",
     "text": [
      "Yumna Asim\n",
      "YUMNA ASIM\n",
      "yumna asim\n"
     ]
    }
   ],
   "source": [
    "name=\"yUmNa AsIm\"\n",
    "# three funtion can be used title(),upper(),lower()\n",
    "print(name.title())\n",
    "print(name.upper())\n",
    "print(name.lower())\n",
    "\n"
   ]
  },
  {
   "cell_type": "markdown",
   "metadata": {},
   "source": [
    "message=input(\"Tell me something,and i will repeat back to you:\")\n",
    "print(message)"
   ]
  },
  {
   "cell_type": "code",
   "execution_count": 11,
   "metadata": {},
   "outputs": [
    {
     "name": "stdout",
     "output_type": "stream",
     "text": [
      "Please enter your name:yumna\n",
      "Asalam o alekum,yumna!\n"
     ]
    }
   ],
   "source": [
    "name=input(\"Please enter your name:\")\n",
    "print(\"Asalam o alekum,\"+name+\"!\")  \n",
    "           "
   ]
  },
  {
   "cell_type": "code",
   "execution_count": 14,
   "metadata": {},
   "outputs": [
    {
     "name": "stdout",
     "output_type": "stream",
     "text": [
      "UsmanInstitute ofTechnology\n"
     ]
    }
   ],
   "source": [
    "uni_first_name=\"Usman\"\n",
    "uni_mid_name=\"Institute of\"\n",
    "uni_last_name=\"Technology\"\n",
    "full_name=uni_first_name+\"\"+uni_mid_name+\"\"+uni_last_name\n",
    "print(full_name)\n"
   ]
  },
  {
   "cell_type": "code",
   "execution_count": 15,
   "metadata": {},
   "outputs": [
    {
     "name": "stdout",
     "output_type": "stream",
     "text": [
      "I learned these programming language:\n",
      " C \n",
      " Java \n",
      "Python\n"
     ]
    }
   ],
   "source": [
    "print(\"I learned these programming language:\\n C \\n Java \\nPython\")\n",
    "      "
   ]
  },
  {
   "cell_type": "code",
   "execution_count": 16,
   "metadata": {},
   "outputs": [
    {
     "name": "stdout",
     "output_type": "stream",
     "text": [
      "7\n",
      "2\n",
      "25\n",
      "4.0\n",
      "4\n",
      "13\n"
     ]
    }
   ],
   "source": [
    "# Add,Sub,Mul,Div,Pow\n",
    "print(2+5)\n",
    "print(6-4)\n",
    "print(5*5)\n",
    "print(6/1.5)\n",
    "print(2**2)\n",
    "print(3+5*2)\n"
   ]
  },
  {
   "cell_type": "code",
   "execution_count": 17,
   "metadata": {},
   "outputs": [
    {
     "name": "stdout",
     "output_type": "stream",
     "text": [
      "7.2\n",
      "1.7999999999999998\n",
      "27.5\n",
      "5.76\n",
      "4.0\n",
      "8.2\n"
     ]
    }
   ],
   "source": [
    "print(2.2+5)\n",
    "print(6-4.2)\n",
    "print(5*5.5)\n",
    "print(2.4**2)\n",
    "print(6/1.5)\n",
    "print(3+5.2)\n"
   ]
  },
  {
   "cell_type": "markdown",
   "metadata": {},
   "source": [
    "# lab 1"
   ]
  },
  {
   "cell_type": "code",
   "execution_count": 18,
   "metadata": {},
   "outputs": [
    {
     "name": "stdout",
     "output_type": "stream",
     "text": [
      "whats your name:yumna\n",
      "how old are you:19\n",
      "yumnawill be 100 years oldin the year2099\n"
     ]
    }
   ],
   "source": [
    "name=input(\"whats your name:\")\n",
    "age=int(input(\"how old are you:\"))\n",
    "year=str((2018-age)+100)\n",
    "print(name+\"will be 100 years oldin the year\"+year)\n",
    "\n",
    "\n"
   ]
  },
  {
   "cell_type": "code",
   "execution_count": 24,
   "metadata": {},
   "outputs": [
    {
     "name": "stdout",
     "output_type": "stream",
     "text": [
      "Twinkle,twickle,little star,\n",
      "\tHow I Wonder what you are! \n",
      "\t\tUp above the world so high,\n",
      "\t\tLike a diamond in the sky.\n",
      "Twinkle ,twinkle,little star \n",
      "\tHow I wonder what you are!\n"
     ]
    }
   ],
   "source": [
    "print(\"Twinkle,twickle,little star,\\n\\tHow I Wonder what you are! \\n\\t\\tUp above the world so high,\\n\\t\\tLike a diamond in the sky.\\nTwinkle ,twinkle,little star \\n\\tHow I wonder what you are!\")"
   ]
  },
  {
   "cell_type": "markdown",
   "metadata": {},
   "source": [
    "import datetime\n",
    "now=datetime.datetime.now()\n",
    "print(\"current date and time:\")\n",
    "print(now.strftime(\"%Y-%m-%d%H:%M:%S\"))"
   ]
  },
  {
   "cell_type": "code",
   "execution_count": null,
   "metadata": {},
   "outputs": [],
   "source": []
  }
 ],
 "metadata": {
  "kernelspec": {
   "display_name": "Python 3",
   "language": "python",
   "name": "python3"
  },
  "language_info": {
   "codemirror_mode": {
    "name": "ipython",
    "version": 3
   },
   "file_extension": ".py",
   "mimetype": "text/x-python",
   "name": "python",
   "nbconvert_exporter": "python",
   "pygments_lexer": "ipython3",
   "version": "3.6.5"
  }
 },
 "nbformat": 4,
 "nbformat_minor": 2
}
